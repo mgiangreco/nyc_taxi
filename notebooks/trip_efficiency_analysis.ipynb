{
 "cells": [
  {
   "cell_type": "code",
   "execution_count": 1,
   "metadata": {},
   "outputs": [],
   "source": [
    "import pandas as pd\n",
    "import datetime as dt\n",
    "import matplotlib.pyplot as plt\n",
    "import matplotlib.dates as mdates\n",
    "\n",
    "%matplotlib inline\n",
    "pd.set_option('display.max_row', 1000)\n",
    "pd.set_option('display.max_columns', 50)"
   ]
  },
  {
   "cell_type": "markdown",
   "metadata": {},
   "source": [
    "### Read in the data and perform basic cleaning"
   ]
  },
  {
   "cell_type": "code",
   "execution_count": 64,
   "metadata": {},
   "outputs": [],
   "source": [
    "# import the augmented June 2016 trip data\n",
    "\n",
    "df = pd.read_csv('/Users/mgiangreco/Documents/taxi_analysis/data/green_06_2016_augmented.csv')"
   ]
  },
  {
   "cell_type": "code",
   "execution_count": 3,
   "metadata": {},
   "outputs": [],
   "source": [
    "df.drop(df.columns[0], axis=1, inplace=True) # because first column is not relevant\n",
    "\n",
    "df['pickup_time'] =  pd.to_datetime(df['pickup_time']) # needs to be in datetime format\n",
    "\n",
    "df['pickup_hour'] = df.pickup_time.dt.hour\n",
    "\n",
    "df['dropoff_time'] =  pd.to_datetime(df['dropoff_time'])\n",
    "\n",
    "df.set_index(['pickup_time'], drop=False, inplace=True)"
   ]
  },
  {
   "cell_type": "code",
   "execution_count": 4,
   "metadata": {},
   "outputs": [
    {
     "data": {
      "text/html": [
       "<div>\n",
       "<style scoped>\n",
       "    .dataframe tbody tr th:only-of-type {\n",
       "        vertical-align: middle;\n",
       "    }\n",
       "\n",
       "    .dataframe tbody tr th {\n",
       "        vertical-align: top;\n",
       "    }\n",
       "\n",
       "    .dataframe thead th {\n",
       "        text-align: right;\n",
       "    }\n",
       "</style>\n",
       "<table border=\"1\" class=\"dataframe\">\n",
       "  <thead>\n",
       "    <tr style=\"text-align: right;\">\n",
       "      <th></th>\n",
       "      <th>vendorid</th>\n",
       "      <th>pickup_time</th>\n",
       "      <th>dropoff_time</th>\n",
       "      <th>store_and_fwd_flag</th>\n",
       "      <th>ratecodeid</th>\n",
       "      <th>pickup_longitude</th>\n",
       "      <th>pickup_latitude</th>\n",
       "      <th>dropoff_longitude</th>\n",
       "      <th>dropoff_latitude</th>\n",
       "      <th>passenger_count</th>\n",
       "      <th>trip_distance</th>\n",
       "      <th>fare_amount</th>\n",
       "      <th>extra</th>\n",
       "      <th>mta_tax</th>\n",
       "      <th>tip_amount</th>\n",
       "      <th>tolls_amount</th>\n",
       "      <th>ehail_fee</th>\n",
       "      <th>improvement_surcharge</th>\n",
       "      <th>total_amount</th>\n",
       "      <th>payment_type</th>\n",
       "      <th>pickup_latlong</th>\n",
       "      <th>dropoff_latlong</th>\n",
       "      <th>trip_time_in_secs</th>\n",
       "      <th>type</th>\n",
       "      <th>pickup_borough</th>\n",
       "      <th>pickup_nbhd</th>\n",
       "      <th>dropoff_borough</th>\n",
       "      <th>dropoff_nbhd</th>\n",
       "      <th>pickup_hour</th>\n",
       "    </tr>\n",
       "    <tr>\n",
       "      <th>pickup_time</th>\n",
       "      <th></th>\n",
       "      <th></th>\n",
       "      <th></th>\n",
       "      <th></th>\n",
       "      <th></th>\n",
       "      <th></th>\n",
       "      <th></th>\n",
       "      <th></th>\n",
       "      <th></th>\n",
       "      <th></th>\n",
       "      <th></th>\n",
       "      <th></th>\n",
       "      <th></th>\n",
       "      <th></th>\n",
       "      <th></th>\n",
       "      <th></th>\n",
       "      <th></th>\n",
       "      <th></th>\n",
       "      <th></th>\n",
       "      <th></th>\n",
       "      <th></th>\n",
       "      <th></th>\n",
       "      <th></th>\n",
       "      <th></th>\n",
       "      <th></th>\n",
       "      <th></th>\n",
       "      <th></th>\n",
       "      <th></th>\n",
       "      <th></th>\n",
       "    </tr>\n",
       "  </thead>\n",
       "  <tbody>\n",
       "    <tr>\n",
       "      <th>2016-06-01 02:46:38</th>\n",
       "      <td>2</td>\n",
       "      <td>2016-06-01 02:46:38</td>\n",
       "      <td>2016-06-01 03:06:40</td>\n",
       "      <td>N</td>\n",
       "      <td>1</td>\n",
       "      <td>-73.930580</td>\n",
       "      <td>40.695179</td>\n",
       "      <td>-74.000053</td>\n",
       "      <td>40.729046</td>\n",
       "      <td>1</td>\n",
       "      <td>5.24</td>\n",
       "      <td>19.5</td>\n",
       "      <td>0.5</td>\n",
       "      <td>0.5</td>\n",
       "      <td>6.24</td>\n",
       "      <td>0.0</td>\n",
       "      <td>NaN</td>\n",
       "      <td>0.3</td>\n",
       "      <td>27.04</td>\n",
       "      <td>1</td>\n",
       "      <td>(-73.931, 40.695)</td>\n",
       "      <td>(-74.0, 40.729)</td>\n",
       "      <td>1202</td>\n",
       "      <td>yellow</td>\n",
       "      <td>Brooklyn</td>\n",
       "      <td>Bushwick</td>\n",
       "      <td>Manhattan</td>\n",
       "      <td>Greenwich Village</td>\n",
       "      <td>2</td>\n",
       "    </tr>\n",
       "    <tr>\n",
       "      <th>2016-06-01 02:55:26</th>\n",
       "      <td>2</td>\n",
       "      <td>2016-06-01 02:55:26</td>\n",
       "      <td>2016-06-01 03:06:52</td>\n",
       "      <td>N</td>\n",
       "      <td>1</td>\n",
       "      <td>-73.946930</td>\n",
       "      <td>40.792553</td>\n",
       "      <td>-73.951569</td>\n",
       "      <td>40.825161</td>\n",
       "      <td>1</td>\n",
       "      <td>3.14</td>\n",
       "      <td>11.5</td>\n",
       "      <td>0.5</td>\n",
       "      <td>0.5</td>\n",
       "      <td>2.56</td>\n",
       "      <td>0.0</td>\n",
       "      <td>NaN</td>\n",
       "      <td>0.3</td>\n",
       "      <td>15.36</td>\n",
       "      <td>1</td>\n",
       "      <td>(-73.947, 40.793)</td>\n",
       "      <td>(-73.952, 40.825)</td>\n",
       "      <td>686</td>\n",
       "      <td>yellow</td>\n",
       "      <td>Manhattan</td>\n",
       "      <td>East Harlem</td>\n",
       "      <td>Manhattan</td>\n",
       "      <td>Harlem</td>\n",
       "      <td>2</td>\n",
       "    </tr>\n",
       "    <tr>\n",
       "      <th>2016-06-01 02:50:36</th>\n",
       "      <td>2</td>\n",
       "      <td>2016-06-01 02:50:36</td>\n",
       "      <td>2016-06-01 03:08:39</td>\n",
       "      <td>N</td>\n",
       "      <td>1</td>\n",
       "      <td>-73.944534</td>\n",
       "      <td>40.823956</td>\n",
       "      <td>-73.994659</td>\n",
       "      <td>40.750423</td>\n",
       "      <td>1</td>\n",
       "      <td>7.50</td>\n",
       "      <td>23.5</td>\n",
       "      <td>0.5</td>\n",
       "      <td>0.5</td>\n",
       "      <td>2.00</td>\n",
       "      <td>0.0</td>\n",
       "      <td>NaN</td>\n",
       "      <td>0.3</td>\n",
       "      <td>26.80</td>\n",
       "      <td>1</td>\n",
       "      <td>(-73.945, 40.824)</td>\n",
       "      <td>(-73.995, 40.75)</td>\n",
       "      <td>1083</td>\n",
       "      <td>yellow</td>\n",
       "      <td>Manhattan</td>\n",
       "      <td>Harlem</td>\n",
       "      <td>Manhattan</td>\n",
       "      <td>Chelsea</td>\n",
       "      <td>2</td>\n",
       "    </tr>\n",
       "    <tr>\n",
       "      <th>2016-06-01 02:57:04</th>\n",
       "      <td>2</td>\n",
       "      <td>2016-06-01 02:57:04</td>\n",
       "      <td>2016-06-01 03:07:52</td>\n",
       "      <td>N</td>\n",
       "      <td>1</td>\n",
       "      <td>-73.952209</td>\n",
       "      <td>40.823872</td>\n",
       "      <td>-73.914360</td>\n",
       "      <td>40.814697</td>\n",
       "      <td>1</td>\n",
       "      <td>2.27</td>\n",
       "      <td>10.5</td>\n",
       "      <td>0.5</td>\n",
       "      <td>0.5</td>\n",
       "      <td>0.00</td>\n",
       "      <td>0.0</td>\n",
       "      <td>NaN</td>\n",
       "      <td>0.3</td>\n",
       "      <td>11.80</td>\n",
       "      <td>2</td>\n",
       "      <td>(-73.952, 40.824)</td>\n",
       "      <td>(-73.914, 40.815)</td>\n",
       "      <td>648</td>\n",
       "      <td>yellow</td>\n",
       "      <td>Manhattan</td>\n",
       "      <td>Harlem</td>\n",
       "      <td>Bronx</td>\n",
       "      <td>Longwood</td>\n",
       "      <td>2</td>\n",
       "    </tr>\n",
       "    <tr>\n",
       "      <th>2016-06-01 02:52:03</th>\n",
       "      <td>2</td>\n",
       "      <td>2016-06-01 02:52:03</td>\n",
       "      <td>2016-06-01 03:08:12</td>\n",
       "      <td>N</td>\n",
       "      <td>1</td>\n",
       "      <td>-73.957977</td>\n",
       "      <td>40.717827</td>\n",
       "      <td>-73.954018</td>\n",
       "      <td>40.655121</td>\n",
       "      <td>3</td>\n",
       "      <td>4.90</td>\n",
       "      <td>16.5</td>\n",
       "      <td>0.5</td>\n",
       "      <td>0.5</td>\n",
       "      <td>0.00</td>\n",
       "      <td>0.0</td>\n",
       "      <td>NaN</td>\n",
       "      <td>0.3</td>\n",
       "      <td>17.80</td>\n",
       "      <td>1</td>\n",
       "      <td>(-73.958, 40.718)</td>\n",
       "      <td>(-73.954, 40.655)</td>\n",
       "      <td>969</td>\n",
       "      <td>yellow</td>\n",
       "      <td>Brooklyn</td>\n",
       "      <td>Williamsburg</td>\n",
       "      <td>Brooklyn</td>\n",
       "      <td>Flatbush</td>\n",
       "      <td>2</td>\n",
       "    </tr>\n",
       "  </tbody>\n",
       "</table>\n",
       "</div>"
      ],
      "text/plain": [
       "                     vendorid         pickup_time        dropoff_time  \\\n",
       "pickup_time                                                             \n",
       "2016-06-01 02:46:38         2 2016-06-01 02:46:38 2016-06-01 03:06:40   \n",
       "2016-06-01 02:55:26         2 2016-06-01 02:55:26 2016-06-01 03:06:52   \n",
       "2016-06-01 02:50:36         2 2016-06-01 02:50:36 2016-06-01 03:08:39   \n",
       "2016-06-01 02:57:04         2 2016-06-01 02:57:04 2016-06-01 03:07:52   \n",
       "2016-06-01 02:52:03         2 2016-06-01 02:52:03 2016-06-01 03:08:12   \n",
       "\n",
       "                    store_and_fwd_flag  ratecodeid  pickup_longitude  \\\n",
       "pickup_time                                                            \n",
       "2016-06-01 02:46:38                  N           1        -73.930580   \n",
       "2016-06-01 02:55:26                  N           1        -73.946930   \n",
       "2016-06-01 02:50:36                  N           1        -73.944534   \n",
       "2016-06-01 02:57:04                  N           1        -73.952209   \n",
       "2016-06-01 02:52:03                  N           1        -73.957977   \n",
       "\n",
       "                     pickup_latitude  dropoff_longitude  dropoff_latitude  \\\n",
       "pickup_time                                                                 \n",
       "2016-06-01 02:46:38        40.695179         -74.000053         40.729046   \n",
       "2016-06-01 02:55:26        40.792553         -73.951569         40.825161   \n",
       "2016-06-01 02:50:36        40.823956         -73.994659         40.750423   \n",
       "2016-06-01 02:57:04        40.823872         -73.914360         40.814697   \n",
       "2016-06-01 02:52:03        40.717827         -73.954018         40.655121   \n",
       "\n",
       "                     passenger_count  trip_distance  fare_amount  extra  \\\n",
       "pickup_time                                                               \n",
       "2016-06-01 02:46:38                1           5.24         19.5    0.5   \n",
       "2016-06-01 02:55:26                1           3.14         11.5    0.5   \n",
       "2016-06-01 02:50:36                1           7.50         23.5    0.5   \n",
       "2016-06-01 02:57:04                1           2.27         10.5    0.5   \n",
       "2016-06-01 02:52:03                3           4.90         16.5    0.5   \n",
       "\n",
       "                     mta_tax  tip_amount  tolls_amount  ehail_fee  \\\n",
       "pickup_time                                                         \n",
       "2016-06-01 02:46:38      0.5        6.24           0.0        NaN   \n",
       "2016-06-01 02:55:26      0.5        2.56           0.0        NaN   \n",
       "2016-06-01 02:50:36      0.5        2.00           0.0        NaN   \n",
       "2016-06-01 02:57:04      0.5        0.00           0.0        NaN   \n",
       "2016-06-01 02:52:03      0.5        0.00           0.0        NaN   \n",
       "\n",
       "                     improvement_surcharge  total_amount  payment_type  \\\n",
       "pickup_time                                                              \n",
       "2016-06-01 02:46:38                    0.3         27.04             1   \n",
       "2016-06-01 02:55:26                    0.3         15.36             1   \n",
       "2016-06-01 02:50:36                    0.3         26.80             1   \n",
       "2016-06-01 02:57:04                    0.3         11.80             2   \n",
       "2016-06-01 02:52:03                    0.3         17.80             1   \n",
       "\n",
       "                        pickup_latlong    dropoff_latlong  trip_time_in_secs  \\\n",
       "pickup_time                                                                    \n",
       "2016-06-01 02:46:38  (-73.931, 40.695)    (-74.0, 40.729)               1202   \n",
       "2016-06-01 02:55:26  (-73.947, 40.793)  (-73.952, 40.825)                686   \n",
       "2016-06-01 02:50:36  (-73.945, 40.824)   (-73.995, 40.75)               1083   \n",
       "2016-06-01 02:57:04  (-73.952, 40.824)  (-73.914, 40.815)                648   \n",
       "2016-06-01 02:52:03  (-73.958, 40.718)  (-73.954, 40.655)                969   \n",
       "\n",
       "                       type pickup_borough   pickup_nbhd dropoff_borough  \\\n",
       "pickup_time                                                                \n",
       "2016-06-01 02:46:38  yellow       Brooklyn      Bushwick       Manhattan   \n",
       "2016-06-01 02:55:26  yellow      Manhattan   East Harlem       Manhattan   \n",
       "2016-06-01 02:50:36  yellow      Manhattan        Harlem       Manhattan   \n",
       "2016-06-01 02:57:04  yellow      Manhattan        Harlem           Bronx   \n",
       "2016-06-01 02:52:03  yellow       Brooklyn  Williamsburg        Brooklyn   \n",
       "\n",
       "                          dropoff_nbhd  pickup_hour  \n",
       "pickup_time                                          \n",
       "2016-06-01 02:46:38  Greenwich Village            2  \n",
       "2016-06-01 02:55:26             Harlem            2  \n",
       "2016-06-01 02:50:36            Chelsea            2  \n",
       "2016-06-01 02:57:04           Longwood            2  \n",
       "2016-06-01 02:52:03           Flatbush            2  "
      ]
     },
     "execution_count": 4,
     "metadata": {},
     "output_type": "execute_result"
    }
   ],
   "source": [
    "df.head()"
   ]
  },
  {
   "cell_type": "code",
   "execution_count": 5,
   "metadata": {},
   "outputs": [
    {
     "data": {
      "text/plain": [
       "1404726"
      ]
     },
     "execution_count": 5,
     "metadata": {},
     "output_type": "execute_result"
    }
   ],
   "source": [
    "len(df)"
   ]
  },
  {
   "cell_type": "code",
   "execution_count": 6,
   "metadata": {},
   "outputs": [
    {
     "data": {
      "text/plain": [
       "array(['Brooklyn', 'Manhattan', 'Queens', 'Bronx', 'Staten Island', nan],\n",
       "      dtype=object)"
      ]
     },
     "execution_count": 6,
     "metadata": {},
     "output_type": "execute_result"
    }
   ],
   "source": [
    "# list unique boroughs--note that some trips have no recorded pickup borough\n",
    "\n",
    "df.pickup_borough.unique()"
   ]
  },
  {
   "cell_type": "code",
   "execution_count": 7,
   "metadata": {},
   "outputs": [
    {
     "data": {
      "text/plain": [
       "array(['East Harlem', 'Harlem', 'Central Park', 'Inwood',\n",
       "       'Washington Heights', 'Morningside Heights', 'Upper East Side',\n",
       "       'Upper West Side', 'Marble Hill', 'Roosevelt Island',\n",
       "       \"Randall's Island\", 'Lower East Side', 'Chinatown', 'Kips Bay',\n",
       "       'West Village', \"Hell's Kitchen\", 'Midtown', 'Financial District',\n",
       "       'Gramercy', 'Murray Hill', 'East Village', 'Chelsea',\n",
       "       'Civic Center'], dtype=object)"
      ]
     },
     "execution_count": 7,
     "metadata": {},
     "output_type": "execute_result"
    }
   ],
   "source": [
    "# list all the Manhattan neighborhoods--seems correct\n",
    "\n",
    "df[df['pickup_borough']=='Manhattan'].pickup_nbhd.unique()"
   ]
  },
  {
   "cell_type": "code",
   "execution_count": 8,
   "metadata": {},
   "outputs": [
    {
     "data": {
      "text/plain": [
       "1400922"
      ]
     },
     "execution_count": 8,
     "metadata": {},
     "output_type": "execute_result"
    }
   ],
   "source": [
    "len(df[df['pickup_borough'].notnull()])"
   ]
  },
  {
   "cell_type": "code",
   "execution_count": 9,
   "metadata": {},
   "outputs": [
    {
     "data": {
      "text/plain": [
       "count    1.404726e+06\n",
       "mean     1.411817e+03\n",
       "std      6.864588e+03\n",
       "min      0.000000e+00\n",
       "25%      3.770000e+02\n",
       "50%      6.360000e+02\n",
       "75%      1.058000e+03\n",
       "max      8.639900e+04\n",
       "Name: trip_time_in_secs, dtype: float64"
      ]
     },
     "execution_count": 9,
     "metadata": {},
     "output_type": "execute_result"
    }
   ],
   "source": [
    "# check for obvious outliers in trip time--max trip time is ~24 hrs, which is unlikely\n",
    "\n",
    "df['trip_time_in_secs'].describe()"
   ]
  },
  {
   "cell_type": "code",
   "execution_count": 10,
   "metadata": {},
   "outputs": [
    {
     "data": {
      "text/plain": [
       "count    1.404726e+06\n",
       "mean     2.879364e+00\n",
       "std      2.990728e+00\n",
       "min      0.000000e+00\n",
       "25%      1.070000e+00\n",
       "50%      1.900000e+00\n",
       "75%      3.600000e+00\n",
       "max      2.681900e+02\n",
       "Name: trip_distance, dtype: float64"
      ]
     },
     "execution_count": 10,
     "metadata": {},
     "output_type": "execute_result"
    }
   ],
   "source": [
    "# check for obvious outliers in trip distance--max trip dist is 268 mi, which is unlikely\n",
    "\n",
    "df['trip_distance'].describe()"
   ]
  },
  {
   "cell_type": "code",
   "execution_count": 11,
   "metadata": {},
   "outputs": [
    {
     "data": {
      "text/plain": [
       "count    1.404726e+06\n",
       "mean     1.358612e+00\n",
       "std      1.026833e+00\n",
       "min      0.000000e+00\n",
       "25%      1.000000e+00\n",
       "50%      1.000000e+00\n",
       "75%      1.000000e+00\n",
       "max      9.000000e+00\n",
       "Name: passenger_count, dtype: float64"
      ]
     },
     "execution_count": 11,
     "metadata": {},
     "output_type": "execute_result"
    }
   ],
   "source": [
    "# check for obvious outliers in passenger count--some trips have no passengers\n",
    "\n",
    "df['passenger_count'].describe()"
   ]
  },
  {
   "cell_type": "code",
   "execution_count": 12,
   "metadata": {},
   "outputs": [
    {
     "data": {
      "text/plain": [
       "1382173"
      ]
     },
     "execution_count": 12,
     "metadata": {},
     "output_type": "execute_result"
    }
   ],
   "source": [
    "# remove all trips > 2 hrs, trips with null pickup or dropoff boroughs, \n",
    "# trips longer than 50 mi, and trips with no passengers\n",
    "\n",
    "trips_df = df[(df['trip_time_in_secs']<=7200) & (df['dropoff_borough'].notnull()) \\\n",
    "              & (df['pickup_borough'].notnull()) & (df['trip_distance']<=50) \\\n",
    "             & (df['passenger_count']>0)]\n",
    "\n",
    "len(trips_df)\n"
   ]
  },
  {
   "cell_type": "code",
   "execution_count": 13,
   "metadata": {},
   "outputs": [],
   "source": [
    "# Create some handy filters\n",
    "\n",
    "astoria_pickups = trips_df['pickup_nbhd'] == \"Astoria\"\n",
    "astoria_dropoffs = trips_df['dropoff_nbhd'] == \"Astoria\"\n",
    "ues_pickups = trips_df['pickup_nbhd'] == \"Upper East Side\"\n",
    "ues_dropoffs = trips_df['dropoff_nbhd'] == \"Upper East Side\"\n",
    "manhattan_pickups = trips_df['pickup_borough'] == \"Manhattan\"\n",
    "manhattan_dropoffs = trips_df['dropoff_borough'] == \"Manhattan\"\n"
   ]
  },
  {
   "cell_type": "code",
   "execution_count": 14,
   "metadata": {},
   "outputs": [
    {
     "data": {
      "text/plain": [
       "70389"
      ]
     },
     "execution_count": 14,
     "metadata": {},
     "output_type": "execute_result"
    }
   ],
   "source": [
    "# number of trips starting in Astoria\n",
    "\n",
    "len(trips_df[astoria_pickups])"
   ]
  },
  {
   "cell_type": "code",
   "execution_count": 15,
   "metadata": {},
   "outputs": [
    {
     "data": {
      "text/plain": [
       "6651"
      ]
     },
     "execution_count": 15,
     "metadata": {},
     "output_type": "execute_result"
    }
   ],
   "source": [
    "# number of trips starting in UES--a lot fewer than start in Astoria\n",
    "\n",
    "len(trips_df[ues_pickups]) "
   ]
  },
  {
   "cell_type": "markdown",
   "metadata": {},
   "source": [
    "### Plot and explore cleaned dataset"
   ]
  },
  {
   "cell_type": "code",
   "execution_count": 16,
   "metadata": {},
   "outputs": [
    {
     "name": "stderr",
     "output_type": "stream",
     "text": [
      "/Users/mgiangreco/.virtualenvs/taxi/lib/python2.7/site-packages/ipykernel_launcher.py:1: SettingWithCopyWarning: \n",
      "A value is trying to be set on a copy of a slice from a DataFrame.\n",
      "Try using .loc[row_indexer,col_indexer] = value instead\n",
      "\n",
      "See the caveats in the documentation: http://pandas.pydata.org/pandas-docs/stable/indexing.html#indexing-view-versus-copy\n",
      "  \"\"\"Entry point for launching an IPython kernel.\n",
      "/Users/mgiangreco/.virtualenvs/taxi/lib/python2.7/site-packages/ipykernel_launcher.py:3: SettingWithCopyWarning: \n",
      "A value is trying to be set on a copy of a slice from a DataFrame.\n",
      "Try using .loc[row_indexer,col_indexer] = value instead\n",
      "\n",
      "See the caveats in the documentation: http://pandas.pydata.org/pandas-docs/stable/indexing.html#indexing-view-versus-copy\n",
      "  This is separate from the ipykernel package so we can avoid doing imports until\n"
     ]
    }
   ],
   "source": [
    "trips_df['trip_count'] = 1\n",
    "\n",
    "trips_df['passenger_miles'] = trips_df['passenger_count'] * trips_df['trip_distance']"
   ]
  },
  {
   "cell_type": "code",
   "execution_count": 17,
   "metadata": {},
   "outputs": [
    {
     "data": {
      "image/png": "[encoded data removed]",
      "text/plain": [
       "<matplotlib.figure.Figure at 0x117cc7410>"
      ]
     },
     "metadata": {},
     "output_type": "display_data"
    }
   ],
   "source": [
    "# Scatter plot of hourly trips\n",
    "\n",
    "trips_df_hourly_trips = trips_df.groupby(pd.Grouper(freq='H', \n",
    "                                 closed='left', \n",
    "                                 label='left'))['trip_count'].sum()\n",
    "\n",
    "days = mdates.DayLocator()\n",
    "months = mdates.MonthLocator()\n",
    "daysFmt = mdates.DateFormatter('%d') \n",
    "monthsFmt = mdates.DateFormatter('\\n\\n%b')  \n",
    "dts = trips_df_hourly_trips.index.to_pydatetime()\n",
    "trips = trips_df_hourly_trips.iloc[:].tolist()\n",
    "\n",
    "fig = plt.figure(); ax = fig.add_subplot(111)\n",
    "ax.plot(dts, trips)\n",
    "ax.xaxis.set_minor_locator(days)\n",
    "ax.xaxis.set_minor_formatter(daysFmt)\n",
    "plt.setp(ax.xaxis.get_minorticklabels(), rotation=90)\n",
    "ax.xaxis.set_major_locator(months)\n",
    "ax.xaxis.set_major_formatter(monthsFmt)\n",
    "\n",
    "plt.ylabel('Hourly Trips')\n",
    "plt.title('Hourly Taxi Trips, June 2016');"
   ]
  },
  {
   "cell_type": "code",
   "execution_count": 18,
   "metadata": {},
   "outputs": [
    {
     "data": {
      "image/png": "[encoded data removed]",
      "text/plain": [
       "<matplotlib.figure.Figure at 0x11248b3d0>"
      ]
     },
     "metadata": {},
     "output_type": "display_data"
    }
   ],
   "source": [
    "# Scatter plot of hourly passenger-miles\n",
    "\n",
    "trips_df_hourly_passengermiles = trips_df.groupby(pd.Grouper(freq='H', \n",
    "                                 closed='left', \n",
    "                                 label='left'))['passenger_miles'].sum()\n",
    "\n",
    "days = mdates.DayLocator()\n",
    "months = mdates.MonthLocator()\n",
    "daysFmt = mdates.DateFormatter('%d') \n",
    "monthsFmt = mdates.DateFormatter('\\n\\n%b')  \n",
    "dts = trips_df_hourly_passengermiles.index.to_pydatetime()\n",
    "trips = trips_df_hourly_passengermiles.iloc[:].tolist()\n",
    "\n",
    "fig = plt.figure(); ax = fig.add_subplot(111)\n",
    "ax.plot(dts, trips)\n",
    "ax.xaxis.set_minor_locator(days)\n",
    "ax.xaxis.set_minor_formatter(daysFmt)\n",
    "plt.setp(ax.xaxis.get_minorticklabels(), rotation=90)\n",
    "ax.xaxis.set_major_locator(months)\n",
    "ax.xaxis.set_major_formatter(monthsFmt)\n",
    "\n",
    "plt.ylabel('Hourly Passenger-Miles')\n",
    "plt.title('Hourly Taxi Passenger-Miles, June 2016');"
   ]
  },
  {
   "cell_type": "code",
   "execution_count": 56,
   "metadata": {},
   "outputs": [],
   "source": [
    "metric = 'passenger_miles'\n",
    "#metric = 'trip_count'"
   ]
  },
  {
   "cell_type": "code",
   "execution_count": 57,
   "metadata": {},
   "outputs": [
    {
     "name": "stderr",
     "output_type": "stream",
     "text": [
      "/Users/mgiangreco/.virtualenvs/taxi/lib/python2.7/site-packages/ipykernel_launcher.py:1: FutureWarning: pd.TimeGrouper is deprecated and will be removed; Please use pd.Grouper(freq=...)\n",
      "  \"\"\"Entry point for launching an IPython kernel.\n"
     ]
    },
    {
     "data": {
      "text/html": [
       "<div>\n",
       "<style scoped>\n",
       "    .dataframe tbody tr th:only-of-type {\n",
       "        vertical-align: middle;\n",
       "    }\n",
       "\n",
       "    .dataframe tbody tr th {\n",
       "        vertical-align: top;\n",
       "    }\n",
       "\n",
       "    .dataframe thead th {\n",
       "        text-align: right;\n",
       "    }\n",
       "</style>\n",
       "<table border=\"1\" class=\"dataframe\">\n",
       "  <thead>\n",
       "    <tr style=\"text-align: right;\">\n",
       "      <th></th>\n",
       "      <th>hour</th>\n",
       "      <th>astoria_to_astoria</th>\n",
       "    </tr>\n",
       "  </thead>\n",
       "  <tbody>\n",
       "    <tr>\n",
       "      <th>0</th>\n",
       "      <td>0</td>\n",
       "      <td>135.706667</td>\n",
       "    </tr>\n",
       "    <tr>\n",
       "      <th>1</th>\n",
       "      <td>1</td>\n",
       "      <td>106.385000</td>\n",
       "    </tr>\n",
       "    <tr>\n",
       "      <th>2</th>\n",
       "      <td>2</td>\n",
       "      <td>73.935000</td>\n",
       "    </tr>\n",
       "    <tr>\n",
       "      <th>3</th>\n",
       "      <td>3</td>\n",
       "      <td>49.204167</td>\n",
       "    </tr>\n",
       "    <tr>\n",
       "      <th>4</th>\n",
       "      <td>4</td>\n",
       "      <td>37.524167</td>\n",
       "    </tr>\n",
       "  </tbody>\n",
       "</table>\n",
       "</div>"
      ],
      "text/plain": [
       "   hour  astoria_to_astoria\n",
       "0     0          135.706667\n",
       "1     1          106.385000\n",
       "2     2           73.935000\n",
       "3     3           49.204167\n",
       "4     4           37.524167"
      ]
     },
     "execution_count": 57,
     "metadata": {},
     "output_type": "execute_result"
    }
   ],
   "source": [
    "astoria_to_astoria_resampled = trips_df[astoria_pickups & astoria_dropoffs]\\\n",
    "    .groupby(pd.TimeGrouper('5Min'))[metric].sum()\n",
    "\n",
    "astoria_to_astoria = astoria_to_astoria_resampled\\\n",
    "    .groupby([astoria_to_astoria_resampled.index.hour.rename('hour'), \n",
    "    astoria_to_astoria_resampled.index.minute.rename('min')])\\\n",
    "    .sum().groupby('hour').mean().to_frame().stack().reset_index()\\\n",
    "    .rename(columns={0: 'astoria_to_astoria'})\n",
    "\n",
    "astoria_to_astoria = astoria_to_astoria[['hour', 'astoria_to_astoria']]\n",
    "\n",
    "astoria_to_astoria.head()"
   ]
  },
  {
   "cell_type": "code",
   "execution_count": 58,
   "metadata": {},
   "outputs": [
    {
     "name": "stderr",
     "output_type": "stream",
     "text": [
      "/Users/mgiangreco/.virtualenvs/taxi/lib/python2.7/site-packages/ipykernel_launcher.py:1: FutureWarning: pd.TimeGrouper is deprecated and will be removed; Please use pd.Grouper(freq=...)\n",
      "  \"\"\"Entry point for launching an IPython kernel.\n"
     ]
    },
    {
     "data": {
      "text/html": [
       "<div>\n",
       "<style scoped>\n",
       "    .dataframe tbody tr th:only-of-type {\n",
       "        vertical-align: middle;\n",
       "    }\n",
       "\n",
       "    .dataframe tbody tr th {\n",
       "        vertical-align: top;\n",
       "    }\n",
       "\n",
       "    .dataframe thead th {\n",
       "        text-align: right;\n",
       "    }\n",
       "</style>\n",
       "<table border=\"1\" class=\"dataframe\">\n",
       "  <thead>\n",
       "    <tr style=\"text-align: right;\">\n",
       "      <th></th>\n",
       "      <th>hour</th>\n",
       "      <th>astoria_to_manhattan</th>\n",
       "    </tr>\n",
       "  </thead>\n",
       "  <tbody>\n",
       "    <tr>\n",
       "      <th>0</th>\n",
       "      <td>0</td>\n",
       "      <td>237.272500</td>\n",
       "    </tr>\n",
       "    <tr>\n",
       "      <th>1</th>\n",
       "      <td>1</td>\n",
       "      <td>178.800000</td>\n",
       "    </tr>\n",
       "    <tr>\n",
       "      <th>2</th>\n",
       "      <td>2</td>\n",
       "      <td>159.110000</td>\n",
       "    </tr>\n",
       "    <tr>\n",
       "      <th>3</th>\n",
       "      <td>3</td>\n",
       "      <td>107.467500</td>\n",
       "    </tr>\n",
       "    <tr>\n",
       "      <th>4</th>\n",
       "      <td>4</td>\n",
       "      <td>88.769167</td>\n",
       "    </tr>\n",
       "  </tbody>\n",
       "</table>\n",
       "</div>"
      ],
      "text/plain": [
       "   hour  astoria_to_manhattan\n",
       "0     0            237.272500\n",
       "1     1            178.800000\n",
       "2     2            159.110000\n",
       "3     3            107.467500\n",
       "4     4             88.769167"
      ]
     },
     "execution_count": 58,
     "metadata": {},
     "output_type": "execute_result"
    }
   ],
   "source": [
    "astoria_to_manhattan_resampled = trips_df[astoria_pickups & manhattan_dropoffs]\\\n",
    "    .groupby(pd.TimeGrouper('5Min'))[metric].sum()\n",
    "\n",
    "astoria_to_manhattan = astoria_to_manhattan_resampled\\\n",
    "    .groupby([astoria_to_manhattan_resampled.index.hour.rename('hour'), \n",
    "    astoria_to_manhattan_resampled.index.minute.rename('min')])\\\n",
    "    .sum().groupby('hour').mean().to_frame().stack().reset_index()\\\n",
    "    .rename(columns={0: 'astoria_to_manhattan'})\n",
    "\n",
    "astoria_to_manhattan = astoria_to_manhattan[['hour', 'astoria_to_manhattan']]\n",
    "\n",
    "astoria_to_manhattan.head()"
   ]
  },
  {
   "cell_type": "code",
   "execution_count": 59,
   "metadata": {},
   "outputs": [
    {
     "name": "stderr",
     "output_type": "stream",
     "text": [
      "/Users/mgiangreco/.virtualenvs/taxi/lib/python2.7/site-packages/ipykernel_launcher.py:1: FutureWarning: pd.TimeGrouper is deprecated and will be removed; Please use pd.Grouper(freq=...)\n",
      "  \"\"\"Entry point for launching an IPython kernel.\n"
     ]
    },
    {
     "data": {
      "text/html": [
       "<div>\n",
       "<style scoped>\n",
       "    .dataframe tbody tr th:only-of-type {\n",
       "        vertical-align: middle;\n",
       "    }\n",
       "\n",
       "    .dataframe tbody tr th {\n",
       "        vertical-align: top;\n",
       "    }\n",
       "\n",
       "    .dataframe thead th {\n",
       "        text-align: right;\n",
       "    }\n",
       "</style>\n",
       "<table border=\"1\" class=\"dataframe\">\n",
       "  <thead>\n",
       "    <tr style=\"text-align: right;\">\n",
       "      <th></th>\n",
       "      <th>hour</th>\n",
       "      <th>manhattan_to_astoria</th>\n",
       "    </tr>\n",
       "  </thead>\n",
       "  <tbody>\n",
       "    <tr>\n",
       "      <th>0</th>\n",
       "      <td>0</td>\n",
       "      <td>25.791667</td>\n",
       "    </tr>\n",
       "    <tr>\n",
       "      <th>1</th>\n",
       "      <td>1</td>\n",
       "      <td>20.315833</td>\n",
       "    </tr>\n",
       "    <tr>\n",
       "      <th>2</th>\n",
       "      <td>2</td>\n",
       "      <td>21.693333</td>\n",
       "    </tr>\n",
       "    <tr>\n",
       "      <th>3</th>\n",
       "      <td>3</td>\n",
       "      <td>8.822500</td>\n",
       "    </tr>\n",
       "    <tr>\n",
       "      <th>4</th>\n",
       "      <td>4</td>\n",
       "      <td>8.950833</td>\n",
       "    </tr>\n",
       "  </tbody>\n",
       "</table>\n",
       "</div>"
      ],
      "text/plain": [
       "   hour  manhattan_to_astoria\n",
       "0     0             25.791667\n",
       "1     1             20.315833\n",
       "2     2             21.693333\n",
       "3     3              8.822500\n",
       "4     4              8.950833"
      ]
     },
     "execution_count": 59,
     "metadata": {},
     "output_type": "execute_result"
    }
   ],
   "source": [
    "manhattan_to_astoria_resampled = trips_df[manhattan_pickups & astoria_dropoffs]\\\n",
    "    .groupby(pd.TimeGrouper('5Min'))[metric].sum()\n",
    "\n",
    "manhattan_to_astoria = manhattan_to_astoria_resampled\\\n",
    "    .groupby([manhattan_to_astoria_resampled.index.hour.rename('hour'), \n",
    "    manhattan_to_astoria_resampled.index.minute.rename('min')])\\\n",
    "    .sum().groupby('hour').mean().to_frame().stack().reset_index()\\\n",
    "    .rename(columns={0: 'manhattan_to_astoria'})\n",
    "\n",
    "manhattan_to_astoria = manhattan_to_astoria[['hour', 'manhattan_to_astoria']]\n",
    "\n",
    "manhattan_to_astoria.head()"
   ]
  },
  {
   "cell_type": "code",
   "execution_count": 60,
   "metadata": {},
   "outputs": [
    {
     "name": "stderr",
     "output_type": "stream",
     "text": [
      "/Users/mgiangreco/.virtualenvs/taxi/lib/python2.7/site-packages/ipykernel_launcher.py:1: FutureWarning: pd.TimeGrouper is deprecated and will be removed; Please use pd.Grouper(freq=...)\n",
      "  \"\"\"Entry point for launching an IPython kernel.\n"
     ]
    },
    {
     "data": {
      "text/html": [
       "<div>\n",
       "<style scoped>\n",
       "    .dataframe tbody tr th:only-of-type {\n",
       "        vertical-align: middle;\n",
       "    }\n",
       "\n",
       "    .dataframe tbody tr th {\n",
       "        vertical-align: top;\n",
       "    }\n",
       "\n",
       "    .dataframe thead th {\n",
       "        text-align: right;\n",
       "    }\n",
       "</style>\n",
       "<table border=\"1\" class=\"dataframe\">\n",
       "  <thead>\n",
       "    <tr style=\"text-align: right;\">\n",
       "      <th></th>\n",
       "      <th>hour</th>\n",
       "      <th>ues_to_ues</th>\n",
       "    </tr>\n",
       "  </thead>\n",
       "  <tbody>\n",
       "    <tr>\n",
       "      <th>0</th>\n",
       "      <td>0</td>\n",
       "      <td>0.853333</td>\n",
       "    </tr>\n",
       "    <tr>\n",
       "      <th>1</th>\n",
       "      <td>1</td>\n",
       "      <td>0.860833</td>\n",
       "    </tr>\n",
       "    <tr>\n",
       "      <th>2</th>\n",
       "      <td>2</td>\n",
       "      <td>0.257500</td>\n",
       "    </tr>\n",
       "    <tr>\n",
       "      <th>3</th>\n",
       "      <td>3</td>\n",
       "      <td>0.230000</td>\n",
       "    </tr>\n",
       "    <tr>\n",
       "      <th>4</th>\n",
       "      <td>4</td>\n",
       "      <td>0.230833</td>\n",
       "    </tr>\n",
       "  </tbody>\n",
       "</table>\n",
       "</div>"
      ],
      "text/plain": [
       "   hour  ues_to_ues\n",
       "0     0    0.853333\n",
       "1     1    0.860833\n",
       "2     2    0.257500\n",
       "3     3    0.230000\n",
       "4     4    0.230833"
      ]
     },
     "execution_count": 60,
     "metadata": {},
     "output_type": "execute_result"
    }
   ],
   "source": [
    "ues_to_ues_resampled = trips_df[ues_pickups & ues_dropoffs]\\\n",
    "    .groupby(pd.TimeGrouper('5Min'))[metric].sum()\n",
    "\n",
    "ues_to_ues = ues_to_ues_resampled\\\n",
    "    .groupby([ues_to_ues_resampled.index.hour.rename('hour'), \n",
    "    ues_to_ues_resampled.index.minute.rename('min')])\\\n",
    "    .sum().groupby('hour').mean().to_frame().stack().reset_index()\\\n",
    "    .rename(columns={0: 'ues_to_ues'})\n",
    "\n",
    "ues_to_ues = ues_to_ues[['hour', 'ues_to_ues']]\n",
    "\n",
    "ues_to_ues.head()"
   ]
  },
  {
   "cell_type": "code",
   "execution_count": 61,
   "metadata": {},
   "outputs": [
    {
     "name": "stderr",
     "output_type": "stream",
     "text": [
      "/Users/mgiangreco/.virtualenvs/taxi/lib/python2.7/site-packages/ipykernel_launcher.py:1: FutureWarning: pd.TimeGrouper is deprecated and will be removed; Please use pd.Grouper(freq=...)\n",
      "  \"\"\"Entry point for launching an IPython kernel.\n"
     ]
    },
    {
     "data": {
      "text/html": [
       "<div>\n",
       "<style scoped>\n",
       "    .dataframe tbody tr th:only-of-type {\n",
       "        vertical-align: middle;\n",
       "    }\n",
       "\n",
       "    .dataframe tbody tr th {\n",
       "        vertical-align: top;\n",
       "    }\n",
       "\n",
       "    .dataframe thead th {\n",
       "        text-align: right;\n",
       "    }\n",
       "</style>\n",
       "<table border=\"1\" class=\"dataframe\">\n",
       "  <thead>\n",
       "    <tr style=\"text-align: right;\">\n",
       "      <th></th>\n",
       "      <th>hour</th>\n",
       "      <th>ues_to_manhattan</th>\n",
       "    </tr>\n",
       "  </thead>\n",
       "  <tbody>\n",
       "    <tr>\n",
       "      <th>0</th>\n",
       "      <td>0</td>\n",
       "      <td>23.455833</td>\n",
       "    </tr>\n",
       "    <tr>\n",
       "      <th>1</th>\n",
       "      <td>1</td>\n",
       "      <td>6.609167</td>\n",
       "    </tr>\n",
       "    <tr>\n",
       "      <th>2</th>\n",
       "      <td>2</td>\n",
       "      <td>3.539167</td>\n",
       "    </tr>\n",
       "    <tr>\n",
       "      <th>3</th>\n",
       "      <td>3</td>\n",
       "      <td>3.116667</td>\n",
       "    </tr>\n",
       "    <tr>\n",
       "      <th>4</th>\n",
       "      <td>4</td>\n",
       "      <td>2.905833</td>\n",
       "    </tr>\n",
       "  </tbody>\n",
       "</table>\n",
       "</div>"
      ],
      "text/plain": [
       "   hour  ues_to_manhattan\n",
       "0     0         23.455833\n",
       "1     1          6.609167\n",
       "2     2          3.539167\n",
       "3     3          3.116667\n",
       "4     4          2.905833"
      ]
     },
     "execution_count": 61,
     "metadata": {},
     "output_type": "execute_result"
    }
   ],
   "source": [
    "ues_to_manhattan_resampled = trips_df[ues_pickups & manhattan_dropoffs]\\\n",
    "    .groupby(pd.TimeGrouper('5Min'))[metric].sum()\n",
    "\n",
    "ues_to_manhattan = ues_to_manhattan_resampled\\\n",
    "    .groupby([ues_to_manhattan_resampled.index.hour.rename('hour'), \n",
    "    ues_to_manhattan_resampled.index.minute.rename('min')])\\\n",
    "    .sum().groupby('hour').mean().to_frame().stack().reset_index()\\\n",
    "    .rename(columns={0: 'ues_to_manhattan'})\n",
    "\n",
    "ues_to_manhattan = ues_to_manhattan[['hour', 'ues_to_manhattan']]\n",
    "\n",
    "ues_to_manhattan.head()"
   ]
  },
  {
   "cell_type": "code",
   "execution_count": 62,
   "metadata": {},
   "outputs": [
    {
     "data": {
      "text/html": [
       "<div>\n",
       "<style scoped>\n",
       "    .dataframe tbody tr th:only-of-type {\n",
       "        vertical-align: middle;\n",
       "    }\n",
       "\n",
       "    .dataframe tbody tr th {\n",
       "        vertical-align: top;\n",
       "    }\n",
       "\n",
       "    .dataframe thead th {\n",
       "        text-align: right;\n",
       "    }\n",
       "</style>\n",
       "<table border=\"1\" class=\"dataframe\">\n",
       "  <thead>\n",
       "    <tr style=\"text-align: right;\">\n",
       "      <th></th>\n",
       "      <th>hour</th>\n",
       "      <th>astoria_to_astoria</th>\n",
       "      <th>astoria_to_manhattan</th>\n",
       "      <th>manhattan_to_astoria</th>\n",
       "      <th>ues_to_ues</th>\n",
       "      <th>ues_to_manhattan</th>\n",
       "    </tr>\n",
       "  </thead>\n",
       "  <tbody>\n",
       "    <tr>\n",
       "      <th>0</th>\n",
       "      <td>0</td>\n",
       "      <td>135.706667</td>\n",
       "      <td>237.272500</td>\n",
       "      <td>25.791667</td>\n",
       "      <td>0.853333</td>\n",
       "      <td>23.455833</td>\n",
       "    </tr>\n",
       "    <tr>\n",
       "      <th>1</th>\n",
       "      <td>1</td>\n",
       "      <td>106.385000</td>\n",
       "      <td>178.800000</td>\n",
       "      <td>20.315833</td>\n",
       "      <td>0.860833</td>\n",
       "      <td>6.609167</td>\n",
       "    </tr>\n",
       "    <tr>\n",
       "      <th>2</th>\n",
       "      <td>2</td>\n",
       "      <td>73.935000</td>\n",
       "      <td>159.110000</td>\n",
       "      <td>21.693333</td>\n",
       "      <td>0.257500</td>\n",
       "      <td>3.539167</td>\n",
       "    </tr>\n",
       "    <tr>\n",
       "      <th>3</th>\n",
       "      <td>3</td>\n",
       "      <td>49.204167</td>\n",
       "      <td>107.467500</td>\n",
       "      <td>8.822500</td>\n",
       "      <td>0.230000</td>\n",
       "      <td>3.116667</td>\n",
       "    </tr>\n",
       "    <tr>\n",
       "      <th>4</th>\n",
       "      <td>4</td>\n",
       "      <td>37.524167</td>\n",
       "      <td>88.769167</td>\n",
       "      <td>8.950833</td>\n",
       "      <td>0.230833</td>\n",
       "      <td>2.905833</td>\n",
       "    </tr>\n",
       "  </tbody>\n",
       "</table>\n",
       "</div>"
      ],
      "text/plain": [
       "   hour  astoria_to_astoria  astoria_to_manhattan  manhattan_to_astoria  \\\n",
       "0     0          135.706667            237.272500             25.791667   \n",
       "1     1          106.385000            178.800000             20.315833   \n",
       "2     2           73.935000            159.110000             21.693333   \n",
       "3     3           49.204167            107.467500              8.822500   \n",
       "4     4           37.524167             88.769167              8.950833   \n",
       "\n",
       "   ues_to_ues  ues_to_manhattan  \n",
       "0    0.853333         23.455833  \n",
       "1    0.860833          6.609167  \n",
       "2    0.257500          3.539167  \n",
       "3    0.230000          3.116667  \n",
       "4    0.230833          2.905833  "
      ]
     },
     "execution_count": 62,
     "metadata": {},
     "output_type": "execute_result"
    }
   ],
   "source": [
    "dfs = [astoria_to_astoria, astoria_to_manhattan, manhattan_to_astoria, \n",
    "       ues_to_ues, ues_to_manhattan]\n",
    "\n",
    "avg_passenger_miles_per_5_min_interval = reduce(lambda left,right: pd.merge(left,right, on='hour'), dfs)\n",
    "\n",
    "avg_passenger_miles_per_5_min_interval.head()"
   ]
  },
  {
   "cell_type": "code",
   "execution_count": 67,
   "metadata": {},
   "outputs": [
    {
     "data": {
      "image/png": "[encoded data removed]",
      "text/plain": [
       "<matplotlib.figure.Figure at 0x126992390>"
      ]
     },
     "metadata": {},
     "output_type": "display_data"
    }
   ],
   "source": [
    "title = 'Avg. Passenger Miles Per 5-Min Interval, June 2016'\n",
    "\n",
    "avg_passenger_miles_per_5_min_interval.plot(x='hour', title=title, style='.-');"
   ]
  }
 ],
 "metadata": {
  "kernelspec": {
   "display_name": "Python 2",
   "language": "python",
   "name": "python2"
  },
  "language_info": {
   "codemirror_mode": {
    "name": "ipython",
    "version": 2
   },
   "file_extension": ".py",
   "mimetype": "text/x-python",
   "name": "python",
   "nbconvert_exporter": "python",
   "pygments_lexer": "ipython2",
   "version": "2.7.10"
  }
 },
 "nbformat": 4,
 "nbformat_minor": 2
}
